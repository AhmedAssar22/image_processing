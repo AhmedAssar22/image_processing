{
 "cells": [
  {
   "cell_type": "code",
   "execution_count": 1,
   "metadata": {
    "collapsed": true
   },
   "outputs": [],
   "source": [
    "import skimage\n",
    "%matplotlib inline\n",
    "from skimage import io\n",
    "import matplotlib\n",
    "import numpy as np\n",
    "import matplotlib.pyplot as plt"
   ]
  },
  {
   "cell_type": "code",
   "execution_count": 2,
   "metadata": {},
   "outputs": [
    {
     "data": {
      "text/plain": [
       "0.40877320063991557"
      ]
     },
     "execution_count": 2,
     "metadata": {},
     "output_type": "execute_result"
    }
   ],
   "source": [
    "def avg_H_global(img_file_name):\n",
    "    # using numpy\n",
    "    img = io.imread(img_file_name)\n",
    "    hsv_img = skimage.color.rgb2hsv(img)\n",
    "    avg_H_val = np.average(hsv_img, axis=(0,1))[0]\n",
    "    return avg_H_val\n",
    "avg_H_global('beach.jpg')\n",
    "\n",
    "# avg_H = lambda f: color.rgb2hsv(io.imread(f))[:,:,0].mean()\n",
    "# double point all of them; only the last one [...,0] or also [...,0:1] taking the first two values in the last dimensino"
   ]
  },
  {
   "cell_type": "code",
   "execution_count": 3,
   "metadata": {},
   "outputs": [
    {
     "data": {
      "text/plain": [
       "0.40877320063991557"
      ]
     },
     "execution_count": 3,
     "metadata": {},
     "output_type": "execute_result"
    }
   ],
   "source": [
    "def avg_H_global(img_file_name):\n",
    "    # calculating it myself\n",
    "    img = io.imread(img_file_name)\n",
    "    hsv_img = skimage.color.rgb2hsv(img)\n",
    "    avg_H_val = 0\n",
    "    count = 0\n",
    "    for i in hsv_img:\n",
    "        for j in i:\n",
    "            avg_H_val+= j[0]\n",
    "            count +=1\n",
    "    avg_H_val = avg_H_val/count\n",
    "    return avg_H_val\n",
    "avg_H_global('beach.jpg')"
   ]
  },
  {
   "cell_type": "code",
   "execution_count": 4,
   "metadata": {
    "collapsed": true
   },
   "outputs": [],
   "source": [
    "def avg_H(image_file, block_size):\n",
    "    img = io.imread(image_file,plugin='matplotlib')\n",
    "    hsv_img = skimage.color.rgb2hsv(img)\n",
    "    #plt.imshow(img)\n",
    "    #print img.shape\n",
    "    from skimage.util.shape import view_as_blocks\n",
    "    \n",
    "    block_image = view_as_blocks(np.asarray(hsv_img), block_shape=block_size+(3,))\n",
    "    \n",
    "    avg_H_val = np.empty(shape= (img.shape[0]/ block_size[0],img.shape[1]/ block_size[1]))\n",
    "    #print block_image[0,0,0]\n",
    "    #print block_image[127][127][0]\n",
    "    #print np.average(block_image[127][127][0], axis=(0,1))[0]\n",
    "    \n",
    "    dim = np.shape(avg_H_val)\n",
    "    for i in range(0,dim[0]):\n",
    "        for j in range(0,dim[1]):\n",
    "            avg_H_val[i][j] = np.average(block_image[i][j][0], axis=(0,1))[0]\n",
    "    \n",
    "    \n",
    "    #avg_H_val = np.average(block_image, axis=(0,1))[0]\n",
    "    return avg_H_val"
   ]
  },
  {
   "cell_type": "code",
   "execution_count": 10,
   "metadata": {},
   "outputs": [
    {
     "name": "stdout",
     "output_type": "stream",
     "text": [
      "Elapsed time 0.039999961853\n"
     ]
    },
    {
     "data": {
      "text/plain": [
       "<matplotlib.image.AxesImage at 0xa42f048>"
      ]
     },
     "execution_count": 10,
     "metadata": {},
     "output_type": "execute_result"
    },
    {
     "data": {
      "image/png": "[encoded data removed]",
      "text/plain": [
       "<matplotlib.figure.Figure at 0xa2452e8>"
      ]
     },
     "metadata": {},
     "output_type": "display_data"
    }
   ],
   "source": [
    "import time\n",
    "t0 = time.time()\n",
    "H_avg = avg_H('beach.jpg', (16,16))\n",
    "ela = time.time()-t0\n",
    "print \"Elapsed time {}\".format(ela)\n",
    "plt.imshow(H_avg, cmap='gray')"
   ]
  },
  {
   "cell_type": "code",
   "execution_count": null,
   "metadata": {
    "collapsed": true
   },
   "outputs": [],
   "source": []
  },
  {
   "cell_type": "code",
   "execution_count": null,
   "metadata": {
    "collapsed": true
   },
   "outputs": [],
   "source": []
  }
 ],
 "metadata": {
  "kernelspec": {
   "display_name": "Python 2",
   "language": "python",
   "name": "python2"
  },
  "language_info": {
   "codemirror_mode": {
    "name": "ipython",
    "version": 2
   },
   "file_extension": ".py",
   "mimetype": "text/x-python",
   "name": "python",
   "nbconvert_exporter": "python",
   "pygments_lexer": "ipython2",
   "version": "2.7.14"
  }
 },
 "nbformat": 4,
 "nbformat_minor": 2
}
