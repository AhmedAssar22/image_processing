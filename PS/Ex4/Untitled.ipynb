{
 "cells": [
  {
   "cell_type": "code",
   "execution_count": 104,
   "metadata": {},
   "outputs": [
    {
     "data": {
      "text/plain": [
       "<matplotlib.image.AxesImage at 0x7f1f2b623650>"
      ]
     },
     "execution_count": 104,
     "metadata": {},
     "output_type": "execute_result"
    },
    {
     "data": {
      "image/png": "[encoded data removed]",
      "text/plain": [
       "<matplotlib.figure.Figure at 0x7f1f2c988a10>"
      ]
     },
     "metadata": {},
     "output_type": "display_data"
    }
   ],
   "source": [
    "import skimage\n",
    "%matplotlib inline\n",
    "from skimage import io\n",
    "import matplotlib\n",
    "import numpy as np\n",
    "import matplotlib.pyplot as plt\n",
    "import math\n",
    "\n",
    "def generate_square():\n",
    "  sq = np.zeros((40,40))\n",
    "  sq[15:25,15:25] = 1\n",
    "  return sq\n",
    "\n",
    "def generate_gaussian_mask(shape, sigma, sigma_y=None):\n",
    "        if sigma_y==None:\n",
    "            sigma_y=sigma\n",
    "        rows, cols = shape\n",
    "\n",
    "        def get_gaussian_fct(size, sigma):\n",
    "            fct_gaus_x = np.linspace(0,size,size)\n",
    "            fct_gaus_x = fct_gaus_x-size/2\n",
    "            fct_gaus_x = fct_gaus_x**2\n",
    "            fct_gaus_x = fct_gaus_x/(2*sigma**2)\n",
    "            fct_gaus_x = np.exp(-fct_gaus_x)\n",
    "            return fct_gaus_x\n",
    "\n",
    "        mask = np.outer(get_gaussian_fct(rows,sigma), get_gaussian_fct(cols,sigma_y))\n",
    "        return mask\n",
    "    \n",
    "gaus_mask = generate_gaussian_mask(generate_square().shape, 5)    \n",
    "\n",
    "\n",
    "a = generate_square()\n",
    "#a = z.convert('L')     \n",
    "\n",
    "b = np.asarray(a)\n",
    "\n",
    "c = np.fft.fft2(b)\n",
    "d = np.fft.fftshift(c)\n",
    "    \n",
    "M = d.shape[0]\n",
    "N = d.shape[1]\n",
    "    \n",
    "H = np.zeros((M,N))\n",
    "center1 = M/2\n",
    "center2 = N/2\n",
    "    \n",
    "d0 = 26\n",
    "    \n",
    "for i in range(1,M):\n",
    "    for j in range(1,N):\n",
    "        r = math.sqrt((i-center1)**2 + (j-center2)**2)       \n",
    "        if r > d0:\n",
    "            H[i,j] = 1\n",
    "                \n",
    "x = np.fft.fft2(H)             \n",
    "H = np.fft.fftshift(x)\n",
    "con = d * H * gaus_mask\n",
    "e = np.abs(np.fft.fft2(con))\n",
    "\n",
    "plt.imshow(e, 'gray')"
   ]
  },
  {
   "cell_type": "code",
   "execution_count": null,
   "metadata": {
    "collapsed": true
   },
   "outputs": [],
   "source": []
  },
  {
   "cell_type": "code",
   "execution_count": null,
   "metadata": {
    "collapsed": true
   },
   "outputs": [],
   "source": []
  }
 ],
 "metadata": {
  "kernelspec": {
   "display_name": "Python 2",
   "language": "python",
   "name": "python2"
  },
  "language_info": {
   "codemirror_mode": {
    "name": "ipython",
    "version": 2
   },
   "file_extension": ".py",
   "mimetype": "text/x-python",
   "name": "python",
   "nbconvert_exporter": "python",
   "pygments_lexer": "ipython2",
   "version": "2.7.14"
  }
 },
 "nbformat": 4,
 "nbformat_minor": 2
}
