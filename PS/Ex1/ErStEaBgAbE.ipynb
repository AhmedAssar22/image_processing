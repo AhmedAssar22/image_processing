{
 "cells": [
  {
   "cell_type": "code",
   "execution_count": 9,
   "metadata": {
    "collapsed": true
   },
   "outputs": [],
   "source": [
    "def avg_H_global(img_file_name):\n",
    "    \n",
    "    import numpy as np\n",
    "    from skimage import color\n",
    "    from skimage import data\n",
    "    import matplotlib.pyplot as plt\n",
    "    import matplotlib.image as mpimg\n",
    "    \n",
    "    img=mpimg.imread(img_file_name)\n",
    "    img_hsv = color.rgb2hsv(img)\n",
    "    avg_H_val = mean(img_hsv[:,0])\n",
    "    \n",
    "    \n",
    "    return avg_H_val\n"
   ]
  },
  {
   "cell_type": "code",
   "execution_count": 11,
   "metadata": {},
   "outputs": [
    {
     "name": "stdout",
     "output_type": "stream",
     "text": [
      "0.443920038332\n"
     ]
    }
   ],
   "source": [
    "print avg_H_global('beach.jpg')"
   ]
  },
  {
   "cell_type": "code",
   "execution_count": 46,
   "metadata": {
    "collapsed": true
   },
   "outputs": [],
   "source": [
    "def avg_H(image_file, block_size):\n",
    "    \n",
    "    import numpy as np\n",
    "    import os\n",
    "    from skimage import color\n",
    "    from skimage import data\n",
    "    import matplotlib.pyplot as plt\n",
    "    import matplotlib.image as mpimg\n",
    "    \n",
    "    img=mpimg.imread(image_file)\n",
    "    img_hsv = color.rgb2hsv(img)\n",
    "    \n",
    "    imgshape = shape(img_hsv)\n",
    "    imgheight = int(imgshape[0])\n",
    "    imgwidth = int(imgshape[1])\n",
    "    \n",
    "    #i = 0\n",
    "    #j = 0\n",
    "    \n",
    "    avg_H_val = np.empty(shape= (imgheight/ block_size[0],imgwidth/ block_size[1]))\n",
    "    \n",
    "    for i in range(imgheight/ block_size[0]):\n",
    "        for j in range (imgwidth/ block_size[1]):\n",
    "            avg_H_val[i,j]= mean(img_hsv[(block_size[0]*i):(block_size[0]*(i+1)),(block_size[1]*j):(block_size[1]*(j+1))])\n",
    "            \n",
    "    \n",
    "    return avg_H_val"
   ]
  },
  {
   "cell_type": "code",
   "execution_count": 47,
   "metadata": {},
   "outputs": [
    {
     "data": {
      "text/plain": [
       "<matplotlib.image.AxesImage at 0xa44b4a8>"
      ]
     },
     "execution_count": 47,
     "metadata": {},
     "output_type": "execute_result"
    },
    {
     "data": {
      "image/png": "[encoded data removed]",
      "text/plain": [
       "<matplotlib.figure.Figure at 0xa533400>"
      ]
     },
     "metadata": {},
     "output_type": "display_data"
    }
   ],
   "source": [
    "H_avg = avg_H('beach.jpg', (16,16))\n",
    "plt.imshow(H_avg, cmap='gray')"
   ]
  }
 ],
 "metadata": {
  "kernelspec": {
   "display_name": "Python 2",
   "language": "python",
   "name": "python2"
  },
  "language_info": {
   "codemirror_mode": {
    "name": "ipython",
    "version": 2
   },
   "file_extension": ".py",
   "mimetype": "text/x-python",
   "name": "python",
   "nbconvert_exporter": "python",
   "pygments_lexer": "ipython2",
   "version": "2.7.13"
  }
 },
 "nbformat": 4,
 "nbformat_minor": 2
}
