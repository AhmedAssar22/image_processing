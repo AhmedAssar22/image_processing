{
 "cells": [
  {
   "cell_type": "code",
   "execution_count": 3,
   "metadata": {},
   "outputs": [
    {
     "name": "stdout",
     "output_type": "stream",
     "text": [
      "(9216,)\n"
     ]
    },
    {
     "data": {
      "text/plain": [
       "[<matplotlib.lines.Line2D at 0x7f9566a1a410>]"
      ]
     },
     "execution_count": 3,
     "metadata": {},
     "output_type": "execute_result"
    },
    {
     "data": {
      "image/png": "[encoded data removed]",
      "text/plain": [
       "<matplotlib.figure.Figure at 0x7f959c39d410>"
      ]
     },
     "metadata": {},
     "output_type": "display_data"
    }
   ],
   "source": [
    "import skimage\n",
    "%matplotlib inline\n",
    "from skimage import io\n",
    "import matplotlib\n",
    "import numpy as np\n",
    "import matplotlib.pyplot as plt\n",
    "import math\n",
    "from scipy import ndimage\n",
    "\n",
    "import pywt\n",
    "from skimage import data, img_as_float\n",
    "from skimage.transform import resize\n",
    "from skimage.color import rgb2gray\n",
    "from skimage.util.shape import view_as_blocks\n",
    "\n",
    "img = rgb2gray(data.camera())\n",
    "img = resize(img, (256,256), mode='reflect')\n",
    "\n",
    "# computes the L2 norm of an vector\n",
    "# this function is needed for the block normalization\n",
    "# input vector (or array-like) \n",
    "def normalize_vector(vector):\n",
    "    \n",
    "    length_vector = 0\n",
    "    \n",
    "    for i in range(0,np.shape(vector)[0]):\n",
    "        length_vector = length_vector + vector[i]**2\n",
    "        \n",
    "    length_vector = math.sqrt(length_vector)\n",
    "    \n",
    "    for i in range(0,np.shape(vector)[0]):\n",
    "        vector[i] = vector[i] / length_vector\n",
    "\n",
    "    return vector\n",
    "\n",
    "\n",
    "def simple_HOG(img):\n",
    "    hog_descriptor = []\n",
    "    \n",
    "    # images with the gradients presented in horiz./vertic.\n",
    "    img_gradients_x = ndimage.sobel(img, axis=0, mode='constant')\n",
    "    img_gradients_y = ndimage.sobel(img, axis=1, mode='constant')\n",
    "    \n",
    "    # images presenting the gradient magnitude and direction(in °)\n",
    "    img_gradient_magnitude = np.hypot(img_gradients_x, img_gradients_y)\n",
    "    img_gradient_direction = np.rad2deg(np.arctan2(img_gradients_y, img_gradients_x))\n",
    "    \n",
    "    # magnitudes of gradients in blocks and cells\n",
    "    #block_gradient_magnitude = view_as_blocks(img_gradient_magnitude, block_shape=(16,16))\n",
    "    cell_gradient_magnitude = view_as_blocks(img_gradient_magnitude, block_shape=(8,8))\n",
    "        \n",
    "    # directions of gradients in blocks and cells\n",
    "    block_gradient_direction = view_as_blocks(img_gradient_direction, block_shape=(16,16))\n",
    "    cell_gradient_direction = view_as_blocks(img_gradient_direction, block_shape=(8,8))\n",
    "    \n",
    "    dim = np.shape(block_gradient_direction) # dim of the dircetion (magnitude is the same)\n",
    "   \n",
    "    for i in range(0,dim[0]):\n",
    "        for j in range(0,dim[1]):\n",
    "            # iterate over all blocks (no block overlapping here) and calculate the 4 direction histograms in a 8x8 cell, weighted by their magnitude\n",
    "            # the indices are multiplied by two, since a cell is the half size of a block\n",
    "            cell_hist1, bin_edges1 = np.histogram(cell_gradient_direction[i*2][j*2], bins=9, range=(0,180), weights=cell_gradient_magnitude[i*2][j*2])\n",
    "            cell_hist2, bin_edges2 = np.histogram(cell_gradient_direction[i*2][j*2+1], bins=9, range=(0,180), weights=cell_gradient_magnitude[i*2][j*2+1])\n",
    "            cell_hist3, bin_edges3 = np.histogram(cell_gradient_direction[i*2+1][j*2], bins=9, range=(0,180), weights=cell_gradient_magnitude[i*2+1][j*2])\n",
    "            cell_hist4, bin_edges4 = np.histogram(cell_gradient_direction[i*2+1][j*2+1], bins=9, range=(0,180), weights=cell_gradient_magnitude[i*2+1][j*2+1])\n",
    "            \n",
    "            block_hist = np.concatenate((cell_hist1, cell_hist2, cell_hist3, cell_hist4), axis=0)\n",
    "            block_L2_normalized = normalize_vector(block_hist)\n",
    "           \n",
    "            hog_descriptor = np.concatenate((hog_descriptor, block_L2_normalized), axis=0) \n",
    "    \n",
    "    return hog_descriptor\n",
    "\n",
    "\n",
    "\n",
    "\n",
    "\n",
    "desc = simple_HOG(img)\n",
    "print(np.shape(desc))\n",
    "\n",
    "plt.title('hog descriptor')\n",
    "plt.plot(desc)"
   ]
  },
  {
   "cell_type": "code",
   "execution_count": null,
   "metadata": {
    "collapsed": true
   },
   "outputs": [],
   "source": []
  }
 ],
 "metadata": {
  "kernelspec": {
   "display_name": "Python 2",
   "language": "python",
   "name": "python2"
  },
  "language_info": {
   "codemirror_mode": {
    "name": "ipython",
    "version": 2
   },
   "file_extension": ".py",
   "mimetype": "text/x-python",
   "name": "python",
   "nbconvert_exporter": "python",
   "pygments_lexer": "ipython2",
   "version": "2.7.14"
  }
 },
 "nbformat": 4,
 "nbformat_minor": 2
}
