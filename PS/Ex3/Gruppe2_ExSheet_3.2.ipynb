{
 "cells": [
  {
   "cell_type": "code",
   "execution_count": 67,
   "metadata": {
    "collapsed": true
   },
   "outputs": [],
   "source": [
    "import skimage\n",
    "%matplotlib inline\n",
    "from skimage import io\n",
    "from skimage import data\n",
    "\n",
    "import matplotlib\n",
    "import numpy as np\n",
    "import matplotlib.pyplot as plt\n",
    "\n",
    "from scipy.ndimage.filters import median_filter\n",
    "from scipy.ndimage.filters import gaussian_filter"
   ]
  },
  {
   "cell_type": "code",
   "execution_count": 68,
   "metadata": {
    "collapsed": true
   },
   "outputs": [],
   "source": [
    "def mse(img1, img2):\n",
    "    error = np.sum((img1.astype(\"float\") - img2.astype(\"float\")) ** 2)\n",
    "    error /= float(img1.shape[0] * img1.shape[1] * 3) #divide by x * y * 3 (3 for rgb images)\n",
    "\n",
    "    return error"
   ]
  },
  {
   "cell_type": "code",
   "execution_count": 69,
   "metadata": {
    "collapsed": true
   },
   "outputs": [],
   "source": [
    "def psnr(img1, img2):\n",
    "    img_psnr = 20 * math.log10(255) - 10 * math.log10( mse(img1, img2)) #MAX possible pixel value = 255 (8 bit represenation)\n",
    "    \n",
    "    return img_psnr"
   ]
  },
  {
   "cell_type": "code",
   "execution_count": 88,
   "metadata": {},
   "outputs": [],
   "source": [
    "img = data.camera() # cameraman image\n",
    "\n",
    "psnr_values = list()\n",
    "sigma_values = list()\n",
    "for i in range(1,51):\n",
    "    filtered_i = gaussian_filter(img, sigma=i) # filtered cameraman image with sigma 1-50;\n",
    "                                               # sigma 0 returns the original image -> MSE = 0\n",
    "                                               # this means PSNR = infinite/not defined (10*log(255/0))\n",
    "    sigma_values.append(i)\n",
    "    psnr_i = psnr(img, filtered_i)\n",
    "    psnr_values.append(psnr_i)"
   ]
  },
  {
   "cell_type": "code",
   "execution_count": 90,
   "metadata": {},
   "outputs": [
    {
     "data": {
      "text/plain": [
       "[<matplotlib.lines.Line2D at 0x7f72de9799d0>]"
      ]
     },
     "execution_count": 90,
     "metadata": {},
     "output_type": "execute_result"
    },
    {
     "data": {
      "image/png": "[encoded data removed]",
      "text/plain": [
       "<matplotlib.figure.Figure at 0x7f72de9d3fd0>"
      ]
     },
     "metadata": {},
     "output_type": "display_data"
    }
   ],
   "source": [
    "plt.ylabel('psnr')\n",
    "plt.xlabel('sigma')\n",
    "plt.plot(sigma_values, psnr_values)"
   ]
  },
  {
   "cell_type": "code",
   "execution_count": null,
   "metadata": {
    "collapsed": true
   },
   "outputs": [],
   "source": []
  }
 ],
 "metadata": {
  "kernelspec": {
   "display_name": "Python 2",
   "language": "python",
   "name": "python2"
  },
  "language_info": {
   "codemirror_mode": {
    "name": "ipython",
    "version": 2
   },
   "file_extension": ".py",
   "mimetype": "text/x-python",
   "name": "python",
   "nbconvert_exporter": "python",
   "pygments_lexer": "ipython2",
   "version": "2.7.14"
  }
 },
 "nbformat": 4,
 "nbformat_minor": 2
}
