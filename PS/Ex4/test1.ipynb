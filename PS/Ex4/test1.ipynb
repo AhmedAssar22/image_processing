{
 "cells": [
  {
   "cell_type": "code",
   "execution_count": 2,
   "metadata": {},
   "outputs": [
    {
     "name": "stdout",
     "output_type": "stream",
     "text": [
      "0.0146374578811\n"
     ]
    },
    {
     "data": {
      "image/png": "[encoded data removed]",
      "text/plain": [
       "<matplotlib.figure.Figure at 0x7fd1cf881ed0>"
      ]
     },
     "metadata": {},
     "output_type": "display_data"
    }
   ],
   "source": [
    "import skimage\n",
    "%matplotlib inline\n",
    "from skimage import io\n",
    "import matplotlib\n",
    "import numpy as np\n",
    "import matplotlib.pyplot as plt\n",
    "import math\n",
    "\n",
    "def generate_square():\n",
    "  sq = np.zeros((40,40))\n",
    "  sq[15:25,15:25] = 1\n",
    "  return sq\n",
    "\n",
    "my_sigma = 3\n",
    "plt.figure(1,figsize=(16,8))\n",
    "plt.subplot(241)\n",
    "plt.imshow(generate_square(),'gray')\n",
    "\n",
    "def generate_fourier_transform(my_img):\n",
    "    return np.fft.fftshift(np.fft.fft2(my_img))\n",
    "\n",
    "\n",
    "fft_img = generate_fourier_transform(generate_square())\n",
    "plt.subplot(242)\n",
    "plt.imshow(np.log(1+np.abs(fft_img)),'gray')\n",
    "\n",
    "def generate_gaussian_mask(shape, sigma):\n",
    "    rows, cols = shape\n",
    "    \n",
    "    def gaussian_func_2d(x,y,sigma):\n",
    "        return 1/(2*np.pi*(sigma**2))*np.exp(-(x**2+y**2)/(2*(sigma**2)))\n",
    "    \n",
    "    print gaussian_func_2d(0,-2,2)\n",
    "    \n",
    "    x_center = rows/2\n",
    "    y_center = cols/2\n",
    "    \n",
    "    mask = np.zeros(shape)    \n",
    "    for row in range(0,rows):\n",
    "        for col in range(0,cols):\n",
    "            mask[row][col] = gaussian_func_2d(row-x_center,col-y_center,sigma)\n",
    "    \n",
    "    #print np.unique(mask)\n",
    "    return mask\n",
    "\n",
    "gaus_mask = generate_gaussian_mask(fft_img.shape,my_sigma)\n",
    "\n",
    "plt.subplot(243)\n",
    "plt.imshow(np.log(1+np.abs(gaus_mask)),'gray')\n",
    "\n",
    "new_fft = gaus_mask*fft_img\n",
    "plt.subplot(244)\n",
    "plt.imshow(np.log(1+np.abs(new_fft)),'gray')\n",
    "\n",
    "\n",
    "out = np.abs(np.fft.ifft2(new_fft))\n",
    "plt.subplot(245)\n",
    "plt.imshow(out,'gray')\n",
    "\n",
    "def frequency_smoothing(img, sigma):\n",
    "   # np.linspace # start and end value and how many values in between\n",
    "   # np.meshgrid # takes this values and makes out of two linspaces one grid to create the kernel values\n",
    "    \n",
    "    return smoothed_image"
   ]
  },
  {
   "cell_type": "code",
   "execution_count": 15,
   "metadata": {},
   "outputs": [
    {
     "name": "stdout",
     "output_type": "stream",
     "text": [
      "[ 0.   0.1  0.2  0.3  0.4  0.5  0.6  0.7  0.8  0.9  1. ]\n",
      "[ 0.    0.25  0.5   0.75  1.  ]\n",
      "X\n",
      "[[ 0.   0.1  0.2  0.3  0.4  0.5  0.6  0.7  0.8  0.9  1. ]\n",
      " [ 0.   0.1  0.2  0.3  0.4  0.5  0.6  0.7  0.8  0.9  1. ]\n",
      " [ 0.   0.1  0.2  0.3  0.4  0.5  0.6  0.7  0.8  0.9  1. ]\n",
      " [ 0.   0.1  0.2  0.3  0.4  0.5  0.6  0.7  0.8  0.9  1. ]\n",
      " [ 0.   0.1  0.2  0.3  0.4  0.5  0.6  0.7  0.8  0.9  1. ]]\n",
      "Y\n",
      "[[ 0.    0.    0.    0.    0.    0.    0.    0.    0.    0.    0.  ]\n",
      " [ 0.25  0.25  0.25  0.25  0.25  0.25  0.25  0.25  0.25  0.25  0.25]\n",
      " [ 0.5   0.5   0.5   0.5   0.5   0.5   0.5   0.5   0.5   0.5   0.5 ]\n",
      " [ 0.75  0.75  0.75  0.75  0.75  0.75  0.75  0.75  0.75  0.75  0.75]\n",
      " [ 1.    1.    1.    1.    1.    1.    1.    1.    1.    1.    1.  ]]\n"
     ]
    }
   ],
   "source": [
    "x = np.linspace(0,1,11)\n",
    "y = np.linspace(0,1,5)\n",
    "\n",
    "print x\n",
    "print y\n",
    "\n",
    "X,Y = np.meshgrid(x,y)\n",
    "X.shape\n",
    "Y.shape\n",
    "print \"X\"\n",
    "print X\n",
    "print \"Y\"\n",
    "print Y\n",
    "#X.ravel()\n",
    "\n",
    "#np.exp(-(X-cx)**2 - (Y-cy)**2) # center x - cx , ...\n"
   ]
  },
  {
   "cell_type": "code",
   "execution_count": null,
   "metadata": {
    "collapsed": true
   },
   "outputs": [],
   "source": []
  }
 ],
 "metadata": {
  "kernelspec": {
   "display_name": "Python 2",
   "language": "python",
   "name": "python2"
  },
  "language_info": {
   "codemirror_mode": {
    "name": "ipython",
    "version": 2
   },
   "file_extension": ".py",
   "mimetype": "text/x-python",
   "name": "python",
   "nbconvert_exporter": "python",
   "pygments_lexer": "ipython2",
   "version": "2.7.14"
  }
 },
 "nbformat": 4,
 "nbformat_minor": 2
}
